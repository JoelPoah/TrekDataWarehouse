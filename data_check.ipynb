{
 "cells": [
  {
   "cell_type": "code",
   "execution_count": 2,
   "metadata": {},
   "outputs": [],
   "source": [
    "import numpy as np\n",
    "import pandas as pd"
   ]
  },
  {
   "cell_type": "markdown",
   "metadata": {},
   "source": [
    "Author: Jun Jie\n",
    "\n",
    "This ipynb is used to check the number of rows and the columns where null values are present in the csv files given"
   ]
  },
  {
   "cell_type": "code",
   "execution_count": 4,
   "metadata": {},
   "outputs": [
    {
     "name": "stdout",
     "output_type": "stream",
     "text": [
      "<class 'pandas.core.frame.DataFrame'>\n",
      "RangeIndex: 1445 entries, 0 to 1444\n",
      "Data columns (total 9 columns):\n",
      " #   Column          Non-Null Count  Dtype \n",
      "---  ------          --------------  ----- \n",
      " 0   Customer_id     1445 non-null   int64 \n",
      " 1   First_name      1445 non-null   object\n",
      " 2   Last_namePhone  1445 non-null   object\n",
      " 3   Unnamed: 3      178 non-null    object\n",
      " 4   EmAIL           1445 non-null   object\n",
      " 5   Street          1445 non-null   object\n",
      " 6   City            1445 non-null   object\n",
      " 7   State           1445 non-null   object\n",
      " 8   Zip_code        1445 non-null   int64 \n",
      "dtypes: int64(2), object(7)\n",
      "memory usage: 101.7+ KB\n"
     ]
    }
   ],
   "source": [
    "cust = pd.read_csv('deng_ca2_data/customers.csv')\n",
    "cust.info()"
   ]
  },
  {
   "cell_type": "code",
   "execution_count": 5,
   "metadata": {},
   "outputs": [
    {
     "name": "stdout",
     "output_type": "stream",
     "text": [
      "<class 'pandas.core.frame.DataFrame'>\n",
      "RangeIndex: 4722 entries, 0 to 4721\n",
      "Data columns (total 6 columns):\n",
      " #   Column      Non-Null Count  Dtype  \n",
      "---  ------      --------------  -----  \n",
      " 0   order_id    4722 non-null   object \n",
      " 1   item_id     4722 non-null   int64  \n",
      " 2   product_id  4722 non-null   object \n",
      " 3   quantity    4722 non-null   int64  \n",
      " 4   list_price  4722 non-null   float64\n",
      " 5   discount    4722 non-null   float64\n",
      "dtypes: float64(2), int64(2), object(2)\n",
      "memory usage: 221.5+ KB\n"
     ]
    }
   ],
   "source": [
    "orderitems = pd.read_csv('deng_ca2_data\\OrderItems.csv')\n",
    "orderitems.info()"
   ]
  },
  {
   "cell_type": "code",
   "execution_count": 9,
   "metadata": {},
   "outputs": [
    {
     "name": "stdout",
     "output_type": "stream",
     "text": [
      "<class 'pandas.core.frame.DataFrame'>\n",
      "RangeIndex: 3 entries, 0 to 2\n",
      "Data columns (total 8 columns):\n",
      " #   Column      Non-Null Count  Dtype \n",
      "---  ------      --------------  ----- \n",
      " 0   store_id    3 non-null      object\n",
      " 1   store_name  3 non-null      object\n",
      " 2   phone       3 non-null      object\n",
      " 3   email       3 non-null      object\n",
      " 4   street      3 non-null      int64 \n",
      " 5   city        3 non-null      object\n",
      " 6   state       3 non-null      object\n",
      " 7   zip_code    3 non-null      int64 \n",
      "dtypes: int64(2), object(6)\n",
      "memory usage: 320.0+ bytes\n"
     ]
    }
   ],
   "source": [
    "data = pd.read_csv('deng_ca2_data\\stores.txt', sep=\"\\t\", header=None)\n",
    "data.columns = ['store_id', 'store_name', 'phone', 'email', 'street', 'city', 'state', 'zip_code']\n",
    "data.info()"
   ]
  }
 ],
 "metadata": {
  "kernelspec": {
   "display_name": "Python 3.9.4 64-bit",
   "language": "python",
   "name": "python3"
  },
  "language_info": {
   "codemirror_mode": {
    "name": "ipython",
    "version": 3
   },
   "file_extension": ".py",
   "mimetype": "text/x-python",
   "name": "python",
   "nbconvert_exporter": "python",
   "pygments_lexer": "ipython3",
   "version": "3.9.4"
  },
  "orig_nbformat": 4,
  "vscode": {
   "interpreter": {
    "hash": "11938c6bc6919ae2720b4d5011047913343b08a43b18698fd82dedb0d4417594"
   }
  }
 },
 "nbformat": 4,
 "nbformat_minor": 2
}
